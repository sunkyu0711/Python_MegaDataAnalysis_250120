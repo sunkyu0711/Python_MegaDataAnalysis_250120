{
 "cells": [
  {
   "cell_type": "markdown",
   "metadata": {},
   "source": [
    "# 시도 지역 코드 불러오기"
   ]
  },
  {
   "cell_type": "code",
   "execution_count": 29,
   "metadata": {},
   "outputs": [],
   "source": [
    "import pandas as pd"
   ]
  },
  {
   "cell_type": "code",
   "execution_count": 30,
   "metadata": {},
   "outputs": [
    {
     "data": {
      "text/html": [
       "<div>\n",
       "<style scoped>\n",
       "    .dataframe tbody tr th:only-of-type {\n",
       "        vertical-align: middle;\n",
       "    }\n",
       "\n",
       "    .dataframe tbody tr th {\n",
       "        vertical-align: top;\n",
       "    }\n",
       "\n",
       "    .dataframe thead th {\n",
       "        text-align: right;\n",
       "    }\n",
       "</style>\n",
       "<table border=\"1\" class=\"dataframe\">\n",
       "  <thead>\n",
       "    <tr style=\"text-align: right;\">\n",
       "      <th></th>\n",
       "      <th>시도지역코드</th>\n",
       "      <th>지역명</th>\n",
       "    </tr>\n",
       "  </thead>\n",
       "  <tbody>\n",
       "    <tr>\n",
       "      <th>0</th>\n",
       "      <td>11</td>\n",
       "      <td>서울</td>\n",
       "    </tr>\n",
       "    <tr>\n",
       "      <th>1</th>\n",
       "      <td>26</td>\n",
       "      <td>부산</td>\n",
       "    </tr>\n",
       "    <tr>\n",
       "      <th>2</th>\n",
       "      <td>27</td>\n",
       "      <td>대구</td>\n",
       "    </tr>\n",
       "    <tr>\n",
       "      <th>3</th>\n",
       "      <td>28</td>\n",
       "      <td>인천</td>\n",
       "    </tr>\n",
       "    <tr>\n",
       "      <th>4</th>\n",
       "      <td>29</td>\n",
       "      <td>광주</td>\n",
       "    </tr>\n",
       "  </tbody>\n",
       "</table>\n",
       "</div>"
      ],
      "text/plain": [
       "   시도지역코드 지역명\n",
       "0      11  서울\n",
       "1      26  부산\n",
       "2      27  대구\n",
       "3      28  인천\n",
       "4      29  광주"
      ]
     },
     "execution_count": 30,
     "metadata": {},
     "output_type": "execute_result"
    }
   ],
   "source": [
    "# 난 안 났지만 오류가 난 사람들을 위해: vscode, jupyter에서는 여러 개 폴더를 한 번에 처리 못 함. 절대 경로로 넣고 수정할 것!\n",
    "\n",
    "sido=pd.read_csv('data\\시도지역코드.csv',encoding='euc_kr')\n",
    "sido.head()"
   ]
  },
  {
   "cell_type": "code",
   "execution_count": 31,
   "metadata": {},
   "outputs": [
    {
     "name": "stdout",
     "output_type": "stream",
     "text": [
      "<class 'pandas.core.frame.DataFrame'>\n",
      "RangeIndex: 17 entries, 0 to 16\n",
      "Data columns (total 2 columns):\n",
      " #   Column  Non-Null Count  Dtype \n",
      "---  ------  --------------  ----- \n",
      " 0   시도지역코드  17 non-null     int64 \n",
      " 1   지역명     17 non-null     object\n",
      "dtypes: int64(1), object(1)\n",
      "memory usage: 404.0+ bytes\n"
     ]
    }
   ],
   "source": [
    "sido.info()"
   ]
  },
  {
   "cell_type": "code",
   "execution_count": 32,
   "metadata": {},
   "outputs": [
    {
     "data": {
      "text/html": [
       "<div>\n",
       "<style scoped>\n",
       "    .dataframe tbody tr th:only-of-type {\n",
       "        vertical-align: middle;\n",
       "    }\n",
       "\n",
       "    .dataframe tbody tr th {\n",
       "        vertical-align: top;\n",
       "    }\n",
       "\n",
       "    .dataframe thead th {\n",
       "        text-align: right;\n",
       "    }\n",
       "</style>\n",
       "<table border=\"1\" class=\"dataframe\">\n",
       "  <thead>\n",
       "    <tr style=\"text-align: right;\">\n",
       "      <th></th>\n",
       "      <th>시도지역코드</th>\n",
       "      <th>지역명</th>\n",
       "      <th>코드</th>\n",
       "    </tr>\n",
       "  </thead>\n",
       "  <tbody>\n",
       "    <tr>\n",
       "      <th>0</th>\n",
       "      <td>11</td>\n",
       "      <td>서울</td>\n",
       "      <td>21</td>\n",
       "    </tr>\n",
       "    <tr>\n",
       "      <th>1</th>\n",
       "      <td>26</td>\n",
       "      <td>부산</td>\n",
       "      <td>36</td>\n",
       "    </tr>\n",
       "    <tr>\n",
       "      <th>2</th>\n",
       "      <td>27</td>\n",
       "      <td>대구</td>\n",
       "      <td>37</td>\n",
       "    </tr>\n",
       "    <tr>\n",
       "      <th>3</th>\n",
       "      <td>28</td>\n",
       "      <td>인천</td>\n",
       "      <td>38</td>\n",
       "    </tr>\n",
       "    <tr>\n",
       "      <th>4</th>\n",
       "      <td>29</td>\n",
       "      <td>광주</td>\n",
       "      <td>39</td>\n",
       "    </tr>\n",
       "  </tbody>\n",
       "</table>\n",
       "</div>"
      ],
      "text/plain": [
       "   시도지역코드 지역명  코드\n",
       "0      11  서울  21\n",
       "1      26  부산  36\n",
       "2      27  대구  37\n",
       "3      28  인천  38\n",
       "4      29  광주  39"
      ]
     },
     "execution_count": 32,
     "metadata": {},
     "output_type": "execute_result"
    }
   ],
   "source": [
    "# 시도지역코드 컬럼이 int64이므로 이런 계산 가능\n",
    "sido['코드']=sido['시도지역코드']+10\n",
    "sido.head()"
   ]
  },
  {
   "cell_type": "code",
   "execution_count": 33,
   "metadata": {},
   "outputs": [
    {
     "data": {
      "text/html": [
       "<div>\n",
       "<style scoped>\n",
       "    .dataframe tbody tr th:only-of-type {\n",
       "        vertical-align: middle;\n",
       "    }\n",
       "\n",
       "    .dataframe tbody tr th {\n",
       "        vertical-align: top;\n",
       "    }\n",
       "\n",
       "    .dataframe thead th {\n",
       "        text-align: right;\n",
       "    }\n",
       "</style>\n",
       "<table border=\"1\" class=\"dataframe\">\n",
       "  <thead>\n",
       "    <tr style=\"text-align: right;\">\n",
       "      <th></th>\n",
       "      <th>시도지역코드</th>\n",
       "      <th>지역명</th>\n",
       "    </tr>\n",
       "  </thead>\n",
       "  <tbody>\n",
       "    <tr>\n",
       "      <th>0</th>\n",
       "      <td>11</td>\n",
       "      <td>서울</td>\n",
       "    </tr>\n",
       "    <tr>\n",
       "      <th>1</th>\n",
       "      <td>26</td>\n",
       "      <td>부산</td>\n",
       "    </tr>\n",
       "    <tr>\n",
       "      <th>2</th>\n",
       "      <td>27</td>\n",
       "      <td>대구</td>\n",
       "    </tr>\n",
       "    <tr>\n",
       "      <th>3</th>\n",
       "      <td>28</td>\n",
       "      <td>인천</td>\n",
       "    </tr>\n",
       "    <tr>\n",
       "      <th>4</th>\n",
       "      <td>29</td>\n",
       "      <td>광주</td>\n",
       "    </tr>\n",
       "  </tbody>\n",
       "</table>\n",
       "</div>"
      ],
      "text/plain": [
       "   시도지역코드 지역명\n",
       "0      11  서울\n",
       "1      26  부산\n",
       "2      27  대구\n",
       "3      28  인천\n",
       "4      29  광주"
      ]
     },
     "execution_count": 33,
     "metadata": {},
     "output_type": "execute_result"
    }
   ],
   "source": [
    "sido=pd.read_csv('data\\시도지역코드.csv',encoding='euc_kr')\n",
    "sido.head()"
   ]
  },
  {
   "cell_type": "code",
   "execution_count": 34,
   "metadata": {},
   "outputs": [
    {
     "name": "stdout",
     "output_type": "stream",
     "text": [
      "<class 'pandas.core.frame.DataFrame'>\n",
      "RangeIndex: 17 entries, 0 to 16\n",
      "Data columns (total 2 columns):\n",
      " #   Column  Non-Null Count  Dtype \n",
      "---  ------  --------------  ----- \n",
      " 0   시도지역코드  17 non-null     int64 \n",
      " 1   지역명     17 non-null     object\n",
      "dtypes: int64(1), object(1)\n",
      "memory usage: 404.0+ bytes\n"
     ]
    }
   ],
   "source": [
    "sido.info()"
   ]
  },
  {
   "cell_type": "markdown",
   "metadata": {},
   "source": [
    "# 시도별 진료 정보 불러오기"
   ]
  },
  {
   "cell_type": "code",
   "execution_count": 35,
   "metadata": {},
   "outputs": [],
   "source": [
    "# 현재 파일 정보 불러오기\n",
    "import os"
   ]
  },
  {
   "cell_type": "code",
   "execution_count": 36,
   "metadata": {},
   "outputs": [
    {
     "data": {
      "text/plain": [
       "['test.csv',\n",
       " 'test2.csv',\n",
       " 'train.csv',\n",
       " '구주 입국목적별 자료.xlsx',\n",
       " '국민건강보험공단_진료건수 정보_20240229',\n",
       " '국적별 관광 상용 자료.xlsx',\n",
       " '국적별 유학연수 기타 자료.csv',\n",
       " '시군구지역코드.csv',\n",
       " '시도지역코드.csv',\n",
       " '중간기말성적.csv',\n",
       " '진료정보_감기_시군구.csv',\n",
       " '진료정보_감기_시도.csv',\n",
       " '진료정보_눈병_시군구.csv',\n",
       " '진료정보_눈병_시도.csv',\n",
       " '진료정보_천식_시군구.csv',\n",
       " '진료정보_천식_시도.csv',\n",
       " '진료정보_피부염_시군구.csv',\n",
       " '진료정보_피부염_시도.csv',\n",
       " '출석프로젝트성적.csv',\n",
       " '한국전력공사_지역별 전기차 현황정보_20240731.csv']"
      ]
     },
     "execution_count": 36,
     "metadata": {},
     "output_type": "execute_result"
    }
   ],
   "source": [
    "path='data/'\n",
    "file_list=os.listdir(path)\n",
    "file_list"
   ]
  },
  {
   "cell_type": "code",
   "execution_count": 37,
   "metadata": {},
   "outputs": [
    {
     "name": "stdout",
     "output_type": "stream",
     "text": [
      "진료정보_감기_시군구.csv\n"
     ]
    }
   ],
   "source": [
    "if file_list[11].endswith('_시도.csv'):\n",
    "    print(file_list[10])"
   ]
  },
  {
   "cell_type": "code",
   "execution_count": 38,
   "metadata": {},
   "outputs": [
    {
     "name": "stdout",
     "output_type": "stream",
     "text": [
      "진료정보_감기_시도.csv\n",
      "진료정보_눈병_시도.csv\n",
      "진료정보_천식_시도.csv\n",
      "진료정보_피부염_시도.csv\n"
     ]
    }
   ],
   "source": [
    "for i in file_list:\n",
    "    if i.endswith(\"_시도.csv\"):\n",
    "        print(i)"
   ]
  },
  {
   "cell_type": "code",
   "execution_count": 39,
   "metadata": {},
   "outputs": [
    {
     "data": {
      "text/html": [
       "<div>\n",
       "<style scoped>\n",
       "    .dataframe tbody tr th:only-of-type {\n",
       "        vertical-align: middle;\n",
       "    }\n",
       "\n",
       "    .dataframe tbody tr th {\n",
       "        vertical-align: top;\n",
       "    }\n",
       "\n",
       "    .dataframe thead th {\n",
       "        text-align: right;\n",
       "    }\n",
       "</style>\n",
       "<table border=\"1\" class=\"dataframe\">\n",
       "  <thead>\n",
       "    <tr style=\"text-align: right;\">\n",
       "      <th></th>\n",
       "      <th>날짜</th>\n",
       "      <th>시도지역코드</th>\n",
       "      <th>발생건수(건)</th>\n",
       "    </tr>\n",
       "  </thead>\n",
       "  <tbody>\n",
       "    <tr>\n",
       "      <th>0</th>\n",
       "      <td>2023-10-01</td>\n",
       "      <td>11.0</td>\n",
       "      <td>17218.0</td>\n",
       "    </tr>\n",
       "    <tr>\n",
       "      <th>1</th>\n",
       "      <td>2023-10-01</td>\n",
       "      <td>26.0</td>\n",
       "      <td>5699.0</td>\n",
       "    </tr>\n",
       "    <tr>\n",
       "      <th>2</th>\n",
       "      <td>2023-10-01</td>\n",
       "      <td>27.0</td>\n",
       "      <td>3590.0</td>\n",
       "    </tr>\n",
       "    <tr>\n",
       "      <th>3</th>\n",
       "      <td>2023-10-01</td>\n",
       "      <td>28.0</td>\n",
       "      <td>7524.0</td>\n",
       "    </tr>\n",
       "    <tr>\n",
       "      <th>4</th>\n",
       "      <td>2023-10-01</td>\n",
       "      <td>29.0</td>\n",
       "      <td>3044.0</td>\n",
       "    </tr>\n",
       "  </tbody>\n",
       "</table>\n",
       "</div>"
      ],
      "text/plain": [
       "           날짜  시도지역코드  발생건수(건)\n",
       "0  2023-10-01    11.0  17218.0\n",
       "1  2023-10-01    26.0   5699.0\n",
       "2  2023-10-01    27.0   3590.0\n",
       "3  2023-10-01    28.0   7524.0\n",
       "4  2023-10-01    29.0   3044.0"
      ]
     },
     "execution_count": 39,
     "metadata": {},
     "output_type": "execute_result"
    }
   ],
   "source": [
    "df=pd.DataFrame() # 합 구할 때 for 문 전에 초기 값 부여한 것과 같은 맥락\n",
    "for i in file_list:\n",
    "    if i.endswith(\"_시도.csv\"):\n",
    "        data=pd.read_csv(path+i,encoding='euc_kr')\n",
    "        df=pd.concat([df,data])\n",
    "df.head()"
   ]
  },
  {
   "cell_type": "code",
   "execution_count": 40,
   "metadata": {},
   "outputs": [
    {
     "data": {
      "text/plain": [
       "(141588, 3)"
      ]
     },
     "execution_count": 40,
     "metadata": {},
     "output_type": "execute_result"
    }
   ],
   "source": [
    "df.shape"
   ]
  },
  {
   "cell_type": "code",
   "execution_count": 41,
   "metadata": {},
   "outputs": [
    {
     "data": {
      "text/html": [
       "<div>\n",
       "<style scoped>\n",
       "    .dataframe tbody tr th:only-of-type {\n",
       "        vertical-align: middle;\n",
       "    }\n",
       "\n",
       "    .dataframe tbody tr th {\n",
       "        vertical-align: top;\n",
       "    }\n",
       "\n",
       "    .dataframe thead th {\n",
       "        text-align: right;\n",
       "    }\n",
       "</style>\n",
       "<table border=\"1\" class=\"dataframe\">\n",
       "  <thead>\n",
       "    <tr style=\"text-align: right;\">\n",
       "      <th></th>\n",
       "      <th>날짜</th>\n",
       "      <th>시도지역코드</th>\n",
       "      <th>발생건수(건)</th>\n",
       "      <th>구분</th>\n",
       "    </tr>\n",
       "  </thead>\n",
       "  <tbody>\n",
       "    <tr>\n",
       "      <th>0</th>\n",
       "      <td>2023-10-01</td>\n",
       "      <td>11.0</td>\n",
       "      <td>17218.0</td>\n",
       "      <td>감기</td>\n",
       "    </tr>\n",
       "    <tr>\n",
       "      <th>1</th>\n",
       "      <td>2023-10-01</td>\n",
       "      <td>26.0</td>\n",
       "      <td>5699.0</td>\n",
       "      <td>감기</td>\n",
       "    </tr>\n",
       "    <tr>\n",
       "      <th>2</th>\n",
       "      <td>2023-10-01</td>\n",
       "      <td>27.0</td>\n",
       "      <td>3590.0</td>\n",
       "      <td>감기</td>\n",
       "    </tr>\n",
       "    <tr>\n",
       "      <th>3</th>\n",
       "      <td>2023-10-01</td>\n",
       "      <td>28.0</td>\n",
       "      <td>7524.0</td>\n",
       "      <td>감기</td>\n",
       "    </tr>\n",
       "    <tr>\n",
       "      <th>4</th>\n",
       "      <td>2023-10-01</td>\n",
       "      <td>29.0</td>\n",
       "      <td>3044.0</td>\n",
       "      <td>감기</td>\n",
       "    </tr>\n",
       "  </tbody>\n",
       "</table>\n",
       "</div>"
      ],
      "text/plain": [
       "           날짜  시도지역코드  발생건수(건)  구분\n",
       "0  2023-10-01    11.0  17218.0  감기\n",
       "1  2023-10-01    26.0   5699.0  감기\n",
       "2  2023-10-01    27.0   3590.0  감기\n",
       "3  2023-10-01    28.0   7524.0  감기\n",
       "4  2023-10-01    29.0   3044.0  감기"
      ]
     },
     "execution_count": 41,
     "metadata": {},
     "output_type": "execute_result"
    }
   ],
   "source": [
    "df=pd.DataFrame()\n",
    "for i in file_list:\n",
    "    if i.endswith(\"_시도.csv\"):\n",
    "        data=pd.read_csv(path+i,encoding='euc_kr')\n",
    "\n",
    "        # split 메서드 사용해도 되지 않나?: if i.split(\"_\")[1]=='감기': ...\n",
    "        if '감기' in i:\n",
    "            data['구분']='감기'\n",
    "        elif '눈병' in i:\n",
    "            data['구분']='눈병'\n",
    "        elif '천식' in i:\n",
    "            data['구분']='천식'\n",
    "        else:\n",
    "            data['구분']='피부염'\n",
    "\n",
    "        df=pd.concat([df,data])\n",
    "df.head()"
   ]
  },
  {
   "cell_type": "code",
   "execution_count": 42,
   "metadata": {},
   "outputs": [
    {
     "data": {
      "text/html": [
       "<div>\n",
       "<style scoped>\n",
       "    .dataframe tbody tr th:only-of-type {\n",
       "        vertical-align: middle;\n",
       "    }\n",
       "\n",
       "    .dataframe tbody tr th {\n",
       "        vertical-align: top;\n",
       "    }\n",
       "\n",
       "    .dataframe thead th {\n",
       "        text-align: right;\n",
       "    }\n",
       "</style>\n",
       "<table border=\"1\" class=\"dataframe\">\n",
       "  <thead>\n",
       "    <tr style=\"text-align: right;\">\n",
       "      <th></th>\n",
       "      <th>날짜</th>\n",
       "      <th>시도지역코드</th>\n",
       "      <th>발생건수(건)</th>\n",
       "      <th>구분</th>\n",
       "    </tr>\n",
       "  </thead>\n",
       "  <tbody>\n",
       "    <tr>\n",
       "      <th>0</th>\n",
       "      <td>2023-10-01</td>\n",
       "      <td>11.0</td>\n",
       "      <td>17218.0</td>\n",
       "      <td>감기</td>\n",
       "    </tr>\n",
       "    <tr>\n",
       "      <th>1</th>\n",
       "      <td>2023-10-01</td>\n",
       "      <td>26.0</td>\n",
       "      <td>5699.0</td>\n",
       "      <td>감기</td>\n",
       "    </tr>\n",
       "    <tr>\n",
       "      <th>2</th>\n",
       "      <td>2023-10-01</td>\n",
       "      <td>27.0</td>\n",
       "      <td>3590.0</td>\n",
       "      <td>감기</td>\n",
       "    </tr>\n",
       "    <tr>\n",
       "      <th>3</th>\n",
       "      <td>2023-10-01</td>\n",
       "      <td>28.0</td>\n",
       "      <td>7524.0</td>\n",
       "      <td>감기</td>\n",
       "    </tr>\n",
       "    <tr>\n",
       "      <th>4</th>\n",
       "      <td>2023-10-01</td>\n",
       "      <td>29.0</td>\n",
       "      <td>3044.0</td>\n",
       "      <td>감기</td>\n",
       "    </tr>\n",
       "  </tbody>\n",
       "</table>\n",
       "</div>"
      ],
      "text/plain": [
       "           날짜  시도지역코드  발생건수(건)  구분\n",
       "0  2023-10-01    11.0  17218.0  감기\n",
       "1  2023-10-01    26.0   5699.0  감기\n",
       "2  2023-10-01    27.0   3590.0  감기\n",
       "3  2023-10-01    28.0   7524.0  감기\n",
       "4  2023-10-01    29.0   3044.0  감기"
      ]
     },
     "execution_count": 42,
     "metadata": {},
     "output_type": "execute_result"
    }
   ],
   "source": [
    "df=pd.DataFrame()\n",
    "keywords=['감기','눈병','천식','피부염']\n",
    "for i in file_list:\n",
    "    if i.endswith(\"_시도.csv\"):\n",
    "        data=pd.read_csv(path+i,encoding='euc_kr')\n",
    "\n",
    "        # split 메서드 사용해도 되지 않나?\n",
    "        for key in keywords:\n",
    "            if key in i:\n",
    "                data['구분']=key\n",
    "                break\n",
    "\n",
    "        df=pd.concat([df,data])\n",
    "df.head()"
   ]
  },
  {
   "cell_type": "code",
   "execution_count": 43,
   "metadata": {},
   "outputs": [
    {
     "data": {
      "text/plain": [
       "(141588, 4)"
      ]
     },
     "execution_count": 43,
     "metadata": {},
     "output_type": "execute_result"
    }
   ],
   "source": [
    "df.shape"
   ]
  },
  {
   "cell_type": "code",
   "execution_count": 44,
   "metadata": {},
   "outputs": [
    {
     "name": "stdout",
     "output_type": "stream",
     "text": [
      "<class 'pandas.core.frame.DataFrame'>\n",
      "Index: 141588 entries, 0 to 35396\n",
      "Data columns (total 4 columns):\n",
      " #   Column   Non-Null Count   Dtype  \n",
      "---  ------   --------------   -----  \n",
      " 0   날짜       10264 non-null   object \n",
      " 1   시도지역코드   10264 non-null   float64\n",
      " 2   발생건수(건)  10264 non-null   float64\n",
      " 3   구분       141588 non-null  object \n",
      "dtypes: float64(2), object(2)\n",
      "memory usage: 5.4+ MB\n"
     ]
    }
   ],
   "source": [
    "df.info()"
   ]
  },
  {
   "cell_type": "markdown",
   "metadata": {},
   "source": [
    "# 시도 지역 코드의 지역명 표시"
   ]
  },
  {
   "cell_type": "code",
   "execution_count": 45,
   "metadata": {},
   "outputs": [
    {
     "data": {
      "text/plain": [
       "Index(['날짜', '시도지역코드', '발생건수(건)', '구분'], dtype='object')"
      ]
     },
     "execution_count": 45,
     "metadata": {},
     "output_type": "execute_result"
    }
   ],
   "source": [
    "df.columns"
   ]
  },
  {
   "cell_type": "code",
   "execution_count": 46,
   "metadata": {},
   "outputs": [
    {
     "data": {
      "text/plain": [
       "Index(['시도지역코드', '지역명'], dtype='object')"
      ]
     },
     "execution_count": 46,
     "metadata": {},
     "output_type": "execute_result"
    }
   ],
   "source": [
    "sido.columns"
   ]
  },
  {
   "cell_type": "code",
   "execution_count": 47,
   "metadata": {},
   "outputs": [
    {
     "data": {
      "text/html": [
       "<div>\n",
       "<style scoped>\n",
       "    .dataframe tbody tr th:only-of-type {\n",
       "        vertical-align: middle;\n",
       "    }\n",
       "\n",
       "    .dataframe tbody tr th {\n",
       "        vertical-align: top;\n",
       "    }\n",
       "\n",
       "    .dataframe thead th {\n",
       "        text-align: right;\n",
       "    }\n",
       "</style>\n",
       "<table border=\"1\" class=\"dataframe\">\n",
       "  <thead>\n",
       "    <tr style=\"text-align: right;\">\n",
       "      <th></th>\n",
       "      <th>날짜</th>\n",
       "      <th>시도지역코드</th>\n",
       "      <th>발생건수(건)</th>\n",
       "      <th>구분</th>\n",
       "      <th>지역명</th>\n",
       "    </tr>\n",
       "  </thead>\n",
       "  <tbody>\n",
       "    <tr>\n",
       "      <th>0</th>\n",
       "      <td>2023-10-01</td>\n",
       "      <td>11.0</td>\n",
       "      <td>17218.0</td>\n",
       "      <td>감기</td>\n",
       "      <td>서울</td>\n",
       "    </tr>\n",
       "    <tr>\n",
       "      <th>1</th>\n",
       "      <td>2023-10-01</td>\n",
       "      <td>26.0</td>\n",
       "      <td>5699.0</td>\n",
       "      <td>감기</td>\n",
       "      <td>부산</td>\n",
       "    </tr>\n",
       "    <tr>\n",
       "      <th>2</th>\n",
       "      <td>2023-10-01</td>\n",
       "      <td>27.0</td>\n",
       "      <td>3590.0</td>\n",
       "      <td>감기</td>\n",
       "      <td>대구</td>\n",
       "    </tr>\n",
       "    <tr>\n",
       "      <th>3</th>\n",
       "      <td>2023-10-01</td>\n",
       "      <td>28.0</td>\n",
       "      <td>7524.0</td>\n",
       "      <td>감기</td>\n",
       "      <td>인천</td>\n",
       "    </tr>\n",
       "    <tr>\n",
       "      <th>4</th>\n",
       "      <td>2023-10-01</td>\n",
       "      <td>29.0</td>\n",
       "      <td>3044.0</td>\n",
       "      <td>감기</td>\n",
       "      <td>광주</td>\n",
       "    </tr>\n",
       "  </tbody>\n",
       "</table>\n",
       "</div>"
      ],
      "text/plain": [
       "           날짜  시도지역코드  발생건수(건)  구분 지역명\n",
       "0  2023-10-01    11.0  17218.0  감기  서울\n",
       "1  2023-10-01    26.0   5699.0  감기  부산\n",
       "2  2023-10-01    27.0   3590.0  감기  대구\n",
       "3  2023-10-01    28.0   7524.0  감기  인천\n",
       "4  2023-10-01    29.0   3044.0  감기  광주"
      ]
     },
     "execution_count": 47,
     "metadata": {},
     "output_type": "execute_result"
    }
   ],
   "source": [
    "data_merge=pd.merge(df,sido,how='left',on='시도지역코드')\n",
    "data_merge.head()"
   ]
  },
  {
   "cell_type": "code",
   "execution_count": 48,
   "metadata": {},
   "outputs": [
    {
     "data": {
      "text/plain": [
       "array(['서울', '부산', '대구', '인천', '광주', '대전', '울산', '경기', '강원', '충북', '충남',\n",
       "       '전북', '전남', '경북', '경남', '제주', '전국', nan], dtype=object)"
      ]
     },
     "execution_count": 48,
     "metadata": {},
     "output_type": "execute_result"
    }
   ],
   "source": [
    "data_merge['지역명'].unique() # nan 지워야!"
   ]
  },
  {
   "cell_type": "markdown",
   "metadata": {},
   "source": [
    "# 연별, 월별로 지역별 발생 건수 평균 구하기"
   ]
  },
  {
   "cell_type": "code",
   "execution_count": 49,
   "metadata": {},
   "outputs": [
    {
     "name": "stdout",
     "output_type": "stream",
     "text": [
      "<class 'pandas.core.frame.DataFrame'>\n",
      "RangeIndex: 141588 entries, 0 to 141587\n",
      "Data columns (total 5 columns):\n",
      " #   Column   Non-Null Count   Dtype  \n",
      "---  ------   --------------   -----  \n",
      " 0   날짜       10264 non-null   object \n",
      " 1   시도지역코드   10264 non-null   float64\n",
      " 2   발생건수(건)  10264 non-null   float64\n",
      " 3   구분       141588 non-null  object \n",
      " 4   지역명      10264 non-null   object \n",
      "dtypes: float64(2), object(3)\n",
      "memory usage: 5.4+ MB\n"
     ]
    }
   ],
   "source": [
    "data_merge.info() # 날짜는 문자열!"
   ]
  },
  {
   "cell_type": "code",
   "execution_count": 50,
   "metadata": {},
   "outputs": [
    {
     "data": {
      "text/html": [
       "<div>\n",
       "<style scoped>\n",
       "    .dataframe tbody tr th:only-of-type {\n",
       "        vertical-align: middle;\n",
       "    }\n",
       "\n",
       "    .dataframe tbody tr th {\n",
       "        vertical-align: top;\n",
       "    }\n",
       "\n",
       "    .dataframe thead th {\n",
       "        text-align: right;\n",
       "    }\n",
       "</style>\n",
       "<table border=\"1\" class=\"dataframe\">\n",
       "  <thead>\n",
       "    <tr style=\"text-align: right;\">\n",
       "      <th></th>\n",
       "      <th>날짜</th>\n",
       "      <th>시도지역코드</th>\n",
       "      <th>발생건수(건)</th>\n",
       "      <th>구분</th>\n",
       "      <th>지역명</th>\n",
       "      <th>연/월</th>\n",
       "    </tr>\n",
       "  </thead>\n",
       "  <tbody>\n",
       "    <tr>\n",
       "      <th>0</th>\n",
       "      <td>2023-10-01</td>\n",
       "      <td>11.0</td>\n",
       "      <td>17218.0</td>\n",
       "      <td>감기</td>\n",
       "      <td>서울</td>\n",
       "      <td>2023-10</td>\n",
       "    </tr>\n",
       "    <tr>\n",
       "      <th>1</th>\n",
       "      <td>2023-10-01</td>\n",
       "      <td>26.0</td>\n",
       "      <td>5699.0</td>\n",
       "      <td>감기</td>\n",
       "      <td>부산</td>\n",
       "      <td>2023-10</td>\n",
       "    </tr>\n",
       "    <tr>\n",
       "      <th>2</th>\n",
       "      <td>2023-10-01</td>\n",
       "      <td>27.0</td>\n",
       "      <td>3590.0</td>\n",
       "      <td>감기</td>\n",
       "      <td>대구</td>\n",
       "      <td>2023-10</td>\n",
       "    </tr>\n",
       "    <tr>\n",
       "      <th>3</th>\n",
       "      <td>2023-10-01</td>\n",
       "      <td>28.0</td>\n",
       "      <td>7524.0</td>\n",
       "      <td>감기</td>\n",
       "      <td>인천</td>\n",
       "      <td>2023-10</td>\n",
       "    </tr>\n",
       "    <tr>\n",
       "      <th>4</th>\n",
       "      <td>2023-10-01</td>\n",
       "      <td>29.0</td>\n",
       "      <td>3044.0</td>\n",
       "      <td>감기</td>\n",
       "      <td>광주</td>\n",
       "      <td>2023-10</td>\n",
       "    </tr>\n",
       "  </tbody>\n",
       "</table>\n",
       "</div>"
      ],
      "text/plain": [
       "           날짜  시도지역코드  발생건수(건)  구분 지역명      연/월\n",
       "0  2023-10-01    11.0  17218.0  감기  서울  2023-10\n",
       "1  2023-10-01    26.0   5699.0  감기  부산  2023-10\n",
       "2  2023-10-01    27.0   3590.0  감기  대구  2023-10\n",
       "3  2023-10-01    28.0   7524.0  감기  인천  2023-10\n",
       "4  2023-10-01    29.0   3044.0  감기  광주  2023-10"
      ]
     },
     "execution_count": 50,
     "metadata": {},
     "output_type": "execute_result"
    }
   ],
   "source": [
    "# 먼저 연도와 월을 빼기\n",
    "\n",
    "data_merge['연/월']=data_merge['날짜'].str[:7]\n",
    "data_merge.head()"
   ]
  },
  {
   "cell_type": "code",
   "execution_count": 51,
   "metadata": {},
   "outputs": [
    {
     "data": {
      "text/plain": [
       "0         True\n",
       "1         True\n",
       "2         True\n",
       "3         True\n",
       "4         True\n",
       "          ... \n",
       "141583    True\n",
       "141584    True\n",
       "141585    True\n",
       "141586    True\n",
       "141587    True\n",
       "Name: 지역명, Length: 141588, dtype: bool"
      ]
     },
     "execution_count": 51,
     "metadata": {},
     "output_type": "execute_result"
    }
   ],
   "source": [
    "# 데이터에서 전국을 제외하기\n",
    "\n",
    "data_merge['지역명']!='전국'"
   ]
  },
  {
   "cell_type": "code",
   "execution_count": 52,
   "metadata": {},
   "outputs": [
    {
     "data": {
      "text/html": [
       "<div>\n",
       "<style scoped>\n",
       "    .dataframe tbody tr th:only-of-type {\n",
       "        vertical-align: middle;\n",
       "    }\n",
       "\n",
       "    .dataframe tbody tr th {\n",
       "        vertical-align: top;\n",
       "    }\n",
       "\n",
       "    .dataframe thead th {\n",
       "        text-align: right;\n",
       "    }\n",
       "</style>\n",
       "<table border=\"1\" class=\"dataframe\">\n",
       "  <thead>\n",
       "    <tr style=\"text-align: right;\">\n",
       "      <th></th>\n",
       "      <th>날짜</th>\n",
       "      <th>시도지역코드</th>\n",
       "      <th>발생건수(건)</th>\n",
       "      <th>구분</th>\n",
       "      <th>지역명</th>\n",
       "      <th>연/월</th>\n",
       "    </tr>\n",
       "  </thead>\n",
       "  <tbody>\n",
       "    <tr>\n",
       "      <th>0</th>\n",
       "      <td>2023-10-01</td>\n",
       "      <td>11.0</td>\n",
       "      <td>17218.0</td>\n",
       "      <td>감기</td>\n",
       "      <td>서울</td>\n",
       "      <td>2023-10</td>\n",
       "    </tr>\n",
       "    <tr>\n",
       "      <th>1</th>\n",
       "      <td>2023-10-01</td>\n",
       "      <td>26.0</td>\n",
       "      <td>5699.0</td>\n",
       "      <td>감기</td>\n",
       "      <td>부산</td>\n",
       "      <td>2023-10</td>\n",
       "    </tr>\n",
       "    <tr>\n",
       "      <th>2</th>\n",
       "      <td>2023-10-01</td>\n",
       "      <td>27.0</td>\n",
       "      <td>3590.0</td>\n",
       "      <td>감기</td>\n",
       "      <td>대구</td>\n",
       "      <td>2023-10</td>\n",
       "    </tr>\n",
       "    <tr>\n",
       "      <th>3</th>\n",
       "      <td>2023-10-01</td>\n",
       "      <td>28.0</td>\n",
       "      <td>7524.0</td>\n",
       "      <td>감기</td>\n",
       "      <td>인천</td>\n",
       "      <td>2023-10</td>\n",
       "    </tr>\n",
       "    <tr>\n",
       "      <th>4</th>\n",
       "      <td>2023-10-01</td>\n",
       "      <td>29.0</td>\n",
       "      <td>3044.0</td>\n",
       "      <td>감기</td>\n",
       "      <td>광주</td>\n",
       "      <td>2023-10</td>\n",
       "    </tr>\n",
       "    <tr>\n",
       "      <th>...</th>\n",
       "      <td>...</td>\n",
       "      <td>...</td>\n",
       "      <td>...</td>\n",
       "      <td>...</td>\n",
       "      <td>...</td>\n",
       "      <td>...</td>\n",
       "    </tr>\n",
       "    <tr>\n",
       "      <th>141583</th>\n",
       "      <td>NaN</td>\n",
       "      <td>NaN</td>\n",
       "      <td>NaN</td>\n",
       "      <td>피부염</td>\n",
       "      <td>NaN</td>\n",
       "      <td>NaN</td>\n",
       "    </tr>\n",
       "    <tr>\n",
       "      <th>141584</th>\n",
       "      <td>NaN</td>\n",
       "      <td>NaN</td>\n",
       "      <td>NaN</td>\n",
       "      <td>피부염</td>\n",
       "      <td>NaN</td>\n",
       "      <td>NaN</td>\n",
       "    </tr>\n",
       "    <tr>\n",
       "      <th>141585</th>\n",
       "      <td>NaN</td>\n",
       "      <td>NaN</td>\n",
       "      <td>NaN</td>\n",
       "      <td>피부염</td>\n",
       "      <td>NaN</td>\n",
       "      <td>NaN</td>\n",
       "    </tr>\n",
       "    <tr>\n",
       "      <th>141586</th>\n",
       "      <td>NaN</td>\n",
       "      <td>NaN</td>\n",
       "      <td>NaN</td>\n",
       "      <td>피부염</td>\n",
       "      <td>NaN</td>\n",
       "      <td>NaN</td>\n",
       "    </tr>\n",
       "    <tr>\n",
       "      <th>141587</th>\n",
       "      <td>NaN</td>\n",
       "      <td>NaN</td>\n",
       "      <td>NaN</td>\n",
       "      <td>피부염</td>\n",
       "      <td>NaN</td>\n",
       "      <td>NaN</td>\n",
       "    </tr>\n",
       "  </tbody>\n",
       "</table>\n",
       "<p>140980 rows × 6 columns</p>\n",
       "</div>"
      ],
      "text/plain": [
       "                날짜  시도지역코드  발생건수(건)   구분  지역명      연/월\n",
       "0       2023-10-01    11.0  17218.0   감기   서울  2023-10\n",
       "1       2023-10-01    26.0   5699.0   감기   부산  2023-10\n",
       "2       2023-10-01    27.0   3590.0   감기   대구  2023-10\n",
       "3       2023-10-01    28.0   7524.0   감기   인천  2023-10\n",
       "4       2023-10-01    29.0   3044.0   감기   광주  2023-10\n",
       "...            ...     ...      ...  ...  ...      ...\n",
       "141583         NaN     NaN      NaN  피부염  NaN      NaN\n",
       "141584         NaN     NaN      NaN  피부염  NaN      NaN\n",
       "141585         NaN     NaN      NaN  피부염  NaN      NaN\n",
       "141586         NaN     NaN      NaN  피부염  NaN      NaN\n",
       "141587         NaN     NaN      NaN  피부염  NaN      NaN\n",
       "\n",
       "[140980 rows x 6 columns]"
      ]
     },
     "execution_count": 52,
     "metadata": {},
     "output_type": "execute_result"
    }
   ],
   "source": [
    "dfdata=data_merge[data_merge['지역명']!='전국']\n",
    "dfdata"
   ]
  },
  {
   "cell_type": "markdown",
   "metadata": {},
   "source": [
    "* 결측치 있는 행이나 열 삭제: 변수명.dropna(axis=0/1,how='any'/'all')\n",
    "* how: any는 행이나 열에 하나라도 NaN이 있으면 삭제, all는 모두 NaN이 있어야 삭제"
   ]
  },
  {
   "cell_type": "code",
   "execution_count": 55,
   "metadata": {},
   "outputs": [
    {
     "data": {
      "text/plain": [
       "날짜         131324\n",
       "시도지역코드     131324\n",
       "발생건수(건)    131324\n",
       "구분              0\n",
       "지역명        131324\n",
       "연/월        131324\n",
       "dtype: int64"
      ]
     },
     "execution_count": 55,
     "metadata": {},
     "output_type": "execute_result"
    }
   ],
   "source": [
    "dfdata.isnull().sum()"
   ]
  },
  {
   "cell_type": "code",
   "execution_count": 56,
   "metadata": {},
   "outputs": [
    {
     "name": "stderr",
     "output_type": "stream",
     "text": [
      "C:\\Users\\user\\AppData\\Local\\Temp\\ipykernel_24460\\1613275337.py:1: SettingWithCopyWarning: \n",
      "A value is trying to be set on a copy of a slice from a DataFrame\n",
      "\n",
      "See the caveats in the documentation: https://pandas.pydata.org/pandas-docs/stable/user_guide/indexing.html#returning-a-view-versus-a-copy\n",
      "  dfdata.dropna(axis=0,how='all',inplace=True)\n"
     ]
    }
   ],
   "source": [
    "dfdata.dropna(axis=0,how='all',inplace=True)"
   ]
  },
  {
   "cell_type": "code",
   "execution_count": 57,
   "metadata": {},
   "outputs": [
    {
     "data": {
      "text/plain": [
       "날짜         131324\n",
       "시도지역코드     131324\n",
       "발생건수(건)    131324\n",
       "구분              0\n",
       "지역명        131324\n",
       "연/월        131324\n",
       "dtype: int64"
      ]
     },
     "execution_count": 57,
     "metadata": {},
     "output_type": "execute_result"
    }
   ],
   "source": [
    "dfdata.isnull().sum()"
   ]
  },
  {
   "cell_type": "code",
   "execution_count": 58,
   "metadata": {},
   "outputs": [
    {
     "name": "stderr",
     "output_type": "stream",
     "text": [
      "C:\\Users\\user\\AppData\\Local\\Temp\\ipykernel_24460\\2155363050.py:1: SettingWithCopyWarning: \n",
      "A value is trying to be set on a copy of a slice from a DataFrame\n",
      "\n",
      "See the caveats in the documentation: https://pandas.pydata.org/pandas-docs/stable/user_guide/indexing.html#returning-a-view-versus-a-copy\n",
      "  dfdata.dropna(axis=0,how='any',inplace=True)\n"
     ]
    }
   ],
   "source": [
    "dfdata.dropna(axis=0,how='any',inplace=True)"
   ]
  },
  {
   "cell_type": "code",
   "execution_count": 59,
   "metadata": {},
   "outputs": [
    {
     "data": {
      "text/plain": [
       "날짜         0\n",
       "시도지역코드     0\n",
       "발생건수(건)    0\n",
       "구분         0\n",
       "지역명        0\n",
       "연/월        0\n",
       "dtype: int64"
      ]
     },
     "execution_count": 59,
     "metadata": {},
     "output_type": "execute_result"
    }
   ],
   "source": [
    "dfdata.isnull().sum()"
   ]
  },
  {
   "cell_type": "code",
   "execution_count": 60,
   "metadata": {},
   "outputs": [
    {
     "data": {
      "text/html": [
       "<div>\n",
       "<style scoped>\n",
       "    .dataframe tbody tr th:only-of-type {\n",
       "        vertical-align: middle;\n",
       "    }\n",
       "\n",
       "    .dataframe tbody tr th {\n",
       "        vertical-align: top;\n",
       "    }\n",
       "\n",
       "    .dataframe thead th {\n",
       "        text-align: right;\n",
       "    }\n",
       "</style>\n",
       "<table border=\"1\" class=\"dataframe\">\n",
       "  <thead>\n",
       "    <tr style=\"text-align: right;\">\n",
       "      <th></th>\n",
       "      <th>날짜</th>\n",
       "      <th>시도지역코드</th>\n",
       "      <th>발생건수(건)</th>\n",
       "      <th>구분</th>\n",
       "      <th>지역명</th>\n",
       "      <th>연/월</th>\n",
       "    </tr>\n",
       "  </thead>\n",
       "  <tbody>\n",
       "    <tr>\n",
       "      <th>0</th>\n",
       "      <td>2023-10-01</td>\n",
       "      <td>11.0</td>\n",
       "      <td>17218.0</td>\n",
       "      <td>감기</td>\n",
       "      <td>서울</td>\n",
       "      <td>2023-10</td>\n",
       "    </tr>\n",
       "    <tr>\n",
       "      <th>1</th>\n",
       "      <td>2023-10-01</td>\n",
       "      <td>26.0</td>\n",
       "      <td>5699.0</td>\n",
       "      <td>감기</td>\n",
       "      <td>부산</td>\n",
       "      <td>2023-10</td>\n",
       "    </tr>\n",
       "    <tr>\n",
       "      <th>2</th>\n",
       "      <td>2023-10-01</td>\n",
       "      <td>27.0</td>\n",
       "      <td>3590.0</td>\n",
       "      <td>감기</td>\n",
       "      <td>대구</td>\n",
       "      <td>2023-10</td>\n",
       "    </tr>\n",
       "    <tr>\n",
       "      <th>3</th>\n",
       "      <td>2023-10-01</td>\n",
       "      <td>28.0</td>\n",
       "      <td>7524.0</td>\n",
       "      <td>감기</td>\n",
       "      <td>인천</td>\n",
       "      <td>2023-10</td>\n",
       "    </tr>\n",
       "    <tr>\n",
       "      <th>4</th>\n",
       "      <td>2023-10-01</td>\n",
       "      <td>29.0</td>\n",
       "      <td>3044.0</td>\n",
       "      <td>감기</td>\n",
       "      <td>광주</td>\n",
       "      <td>2023-10</td>\n",
       "    </tr>\n",
       "    <tr>\n",
       "      <th>...</th>\n",
       "      <td>...</td>\n",
       "      <td>...</td>\n",
       "      <td>...</td>\n",
       "      <td>...</td>\n",
       "      <td>...</td>\n",
       "      <td>...</td>\n",
       "    </tr>\n",
       "    <tr>\n",
       "      <th>108751</th>\n",
       "      <td>2024-02-29</td>\n",
       "      <td>45.0</td>\n",
       "      <td>2.0</td>\n",
       "      <td>피부염</td>\n",
       "      <td>전북</td>\n",
       "      <td>2024-02</td>\n",
       "    </tr>\n",
       "    <tr>\n",
       "      <th>108752</th>\n",
       "      <td>2024-02-29</td>\n",
       "      <td>46.0</td>\n",
       "      <td>2193.0</td>\n",
       "      <td>피부염</td>\n",
       "      <td>전남</td>\n",
       "      <td>2024-02</td>\n",
       "    </tr>\n",
       "    <tr>\n",
       "      <th>108753</th>\n",
       "      <td>2024-02-29</td>\n",
       "      <td>47.0</td>\n",
       "      <td>2619.0</td>\n",
       "      <td>피부염</td>\n",
       "      <td>경북</td>\n",
       "      <td>2024-02</td>\n",
       "    </tr>\n",
       "    <tr>\n",
       "      <th>108754</th>\n",
       "      <td>2024-02-29</td>\n",
       "      <td>48.0</td>\n",
       "      <td>3464.0</td>\n",
       "      <td>피부염</td>\n",
       "      <td>경남</td>\n",
       "      <td>2024-02</td>\n",
       "    </tr>\n",
       "    <tr>\n",
       "      <th>108755</th>\n",
       "      <td>2024-02-29</td>\n",
       "      <td>49.0</td>\n",
       "      <td>672.0</td>\n",
       "      <td>피부염</td>\n",
       "      <td>제주</td>\n",
       "      <td>2024-02</td>\n",
       "    </tr>\n",
       "  </tbody>\n",
       "</table>\n",
       "<p>9656 rows × 6 columns</p>\n",
       "</div>"
      ],
      "text/plain": [
       "                날짜  시도지역코드  발생건수(건)   구분 지역명      연/월\n",
       "0       2023-10-01    11.0  17218.0   감기  서울  2023-10\n",
       "1       2023-10-01    26.0   5699.0   감기  부산  2023-10\n",
       "2       2023-10-01    27.0   3590.0   감기  대구  2023-10\n",
       "3       2023-10-01    28.0   7524.0   감기  인천  2023-10\n",
       "4       2023-10-01    29.0   3044.0   감기  광주  2023-10\n",
       "...            ...     ...      ...  ...  ..      ...\n",
       "108751  2024-02-29    45.0      2.0  피부염  전북  2024-02\n",
       "108752  2024-02-29    46.0   2193.0  피부염  전남  2024-02\n",
       "108753  2024-02-29    47.0   2619.0  피부염  경북  2024-02\n",
       "108754  2024-02-29    48.0   3464.0  피부염  경남  2024-02\n",
       "108755  2024-02-29    49.0    672.0  피부염  제주  2024-02\n",
       "\n",
       "[9656 rows x 6 columns]"
      ]
     },
     "execution_count": 60,
     "metadata": {},
     "output_type": "execute_result"
    }
   ],
   "source": [
    "dfdata"
   ]
  },
  {
   "cell_type": "code",
   "execution_count": 63,
   "metadata": {},
   "outputs": [
    {
     "data": {
      "text/html": [
       "<div>\n",
       "<style scoped>\n",
       "    .dataframe tbody tr th:only-of-type {\n",
       "        vertical-align: middle;\n",
       "    }\n",
       "\n",
       "    .dataframe tbody tr th {\n",
       "        vertical-align: top;\n",
       "    }\n",
       "\n",
       "    .dataframe thead th {\n",
       "        text-align: right;\n",
       "    }\n",
       "</style>\n",
       "<table border=\"1\" class=\"dataframe\">\n",
       "  <thead>\n",
       "    <tr style=\"text-align: right;\">\n",
       "      <th></th>\n",
       "      <th></th>\n",
       "      <th>발생건수(건)</th>\n",
       "    </tr>\n",
       "    <tr>\n",
       "      <th>연/월</th>\n",
       "      <th>구분</th>\n",
       "      <th></th>\n",
       "    </tr>\n",
       "  </thead>\n",
       "  <tbody>\n",
       "    <tr>\n",
       "      <th rowspan=\"4\" valign=\"top\">2023-10</th>\n",
       "      <th>감기</th>\n",
       "      <td>29373.596349</td>\n",
       "    </tr>\n",
       "    <tr>\n",
       "      <th>눈병</th>\n",
       "      <td>2077.245436</td>\n",
       "    </tr>\n",
       "    <tr>\n",
       "      <th>천식</th>\n",
       "      <td>1099.300203</td>\n",
       "    </tr>\n",
       "    <tr>\n",
       "      <th>피부염</th>\n",
       "      <td>2833.022312</td>\n",
       "    </tr>\n",
       "    <tr>\n",
       "      <th rowspan=\"4\" valign=\"top\">2023-11</th>\n",
       "      <th>감기</th>\n",
       "      <td>35412.163866</td>\n",
       "    </tr>\n",
       "    <tr>\n",
       "      <th>눈병</th>\n",
       "      <td>1959.560924</td>\n",
       "    </tr>\n",
       "    <tr>\n",
       "      <th>천식</th>\n",
       "      <td>1288.512605</td>\n",
       "    </tr>\n",
       "    <tr>\n",
       "      <th>피부염</th>\n",
       "      <td>2609.516807</td>\n",
       "    </tr>\n",
       "    <tr>\n",
       "      <th rowspan=\"4\" valign=\"top\">2023-12</th>\n",
       "      <th>감기</th>\n",
       "      <td>37013.969512</td>\n",
       "    </tr>\n",
       "    <tr>\n",
       "      <th>눈병</th>\n",
       "      <td>1872.800813</td>\n",
       "    </tr>\n",
       "    <tr>\n",
       "      <th>천식</th>\n",
       "      <td>1318.876016</td>\n",
       "    </tr>\n",
       "    <tr>\n",
       "      <th>피부염</th>\n",
       "      <td>2338.969512</td>\n",
       "    </tr>\n",
       "    <tr>\n",
       "      <th rowspan=\"4\" valign=\"top\">2024-01</th>\n",
       "      <th>감기</th>\n",
       "      <td>29773.511156</td>\n",
       "    </tr>\n",
       "    <tr>\n",
       "      <th>눈병</th>\n",
       "      <td>1790.464503</td>\n",
       "    </tr>\n",
       "    <tr>\n",
       "      <th>천식</th>\n",
       "      <td>1149.563895</td>\n",
       "    </tr>\n",
       "    <tr>\n",
       "      <th>피부염</th>\n",
       "      <td>2313.509128</td>\n",
       "    </tr>\n",
       "    <tr>\n",
       "      <th rowspan=\"4\" valign=\"top\">2024-02</th>\n",
       "      <th>감기</th>\n",
       "      <td>24377.571739</td>\n",
       "    </tr>\n",
       "    <tr>\n",
       "      <th>눈병</th>\n",
       "      <td>1721.552174</td>\n",
       "    </tr>\n",
       "    <tr>\n",
       "      <th>천식</th>\n",
       "      <td>948.906522</td>\n",
       "    </tr>\n",
       "    <tr>\n",
       "      <th>피부염</th>\n",
       "      <td>2265.293478</td>\n",
       "    </tr>\n",
       "  </tbody>\n",
       "</table>\n",
       "</div>"
      ],
      "text/plain": [
       "                  발생건수(건)\n",
       "연/월     구분               \n",
       "2023-10 감기   29373.596349\n",
       "        눈병    2077.245436\n",
       "        천식    1099.300203\n",
       "        피부염   2833.022312\n",
       "2023-11 감기   35412.163866\n",
       "        눈병    1959.560924\n",
       "        천식    1288.512605\n",
       "        피부염   2609.516807\n",
       "2023-12 감기   37013.969512\n",
       "        눈병    1872.800813\n",
       "        천식    1318.876016\n",
       "        피부염   2338.969512\n",
       "2024-01 감기   29773.511156\n",
       "        눈병    1790.464503\n",
       "        천식    1149.563895\n",
       "        피부염   2313.509128\n",
       "2024-02 감기   24377.571739\n",
       "        눈병    1721.552174\n",
       "        천식     948.906522\n",
       "        피부염   2265.293478"
      ]
     },
     "execution_count": 63,
     "metadata": {},
     "output_type": "execute_result"
    }
   ],
   "source": [
    "# 연/월, 구분별 발생 건수의 평균 구하기\n",
    "\n",
    "dfdata.groupby(['연/월','구분'])[['발생건수(건)']].mean() # 연/월과 구분은 인덱스"
   ]
  },
  {
   "cell_type": "code",
   "execution_count": 65,
   "metadata": {},
   "outputs": [
    {
     "data": {
      "text/html": [
       "<div>\n",
       "<style scoped>\n",
       "    .dataframe tbody tr th:only-of-type {\n",
       "        vertical-align: middle;\n",
       "    }\n",
       "\n",
       "    .dataframe tbody tr th {\n",
       "        vertical-align: top;\n",
       "    }\n",
       "\n",
       "    .dataframe thead th {\n",
       "        text-align: right;\n",
       "    }\n",
       "</style>\n",
       "<table border=\"1\" class=\"dataframe\">\n",
       "  <thead>\n",
       "    <tr style=\"text-align: right;\">\n",
       "      <th></th>\n",
       "      <th>연/월</th>\n",
       "      <th>구분</th>\n",
       "      <th>발생건수(건)</th>\n",
       "    </tr>\n",
       "  </thead>\n",
       "  <tbody>\n",
       "    <tr>\n",
       "      <th>0</th>\n",
       "      <td>2023-10</td>\n",
       "      <td>감기</td>\n",
       "      <td>29373.596349</td>\n",
       "    </tr>\n",
       "    <tr>\n",
       "      <th>1</th>\n",
       "      <td>2023-10</td>\n",
       "      <td>눈병</td>\n",
       "      <td>2077.245436</td>\n",
       "    </tr>\n",
       "    <tr>\n",
       "      <th>2</th>\n",
       "      <td>2023-10</td>\n",
       "      <td>천식</td>\n",
       "      <td>1099.300203</td>\n",
       "    </tr>\n",
       "    <tr>\n",
       "      <th>3</th>\n",
       "      <td>2023-10</td>\n",
       "      <td>피부염</td>\n",
       "      <td>2833.022312</td>\n",
       "    </tr>\n",
       "    <tr>\n",
       "      <th>4</th>\n",
       "      <td>2023-11</td>\n",
       "      <td>감기</td>\n",
       "      <td>35412.163866</td>\n",
       "    </tr>\n",
       "    <tr>\n",
       "      <th>5</th>\n",
       "      <td>2023-11</td>\n",
       "      <td>눈병</td>\n",
       "      <td>1959.560924</td>\n",
       "    </tr>\n",
       "    <tr>\n",
       "      <th>6</th>\n",
       "      <td>2023-11</td>\n",
       "      <td>천식</td>\n",
       "      <td>1288.512605</td>\n",
       "    </tr>\n",
       "    <tr>\n",
       "      <th>7</th>\n",
       "      <td>2023-11</td>\n",
       "      <td>피부염</td>\n",
       "      <td>2609.516807</td>\n",
       "    </tr>\n",
       "    <tr>\n",
       "      <th>8</th>\n",
       "      <td>2023-12</td>\n",
       "      <td>감기</td>\n",
       "      <td>37013.969512</td>\n",
       "    </tr>\n",
       "    <tr>\n",
       "      <th>9</th>\n",
       "      <td>2023-12</td>\n",
       "      <td>눈병</td>\n",
       "      <td>1872.800813</td>\n",
       "    </tr>\n",
       "    <tr>\n",
       "      <th>10</th>\n",
       "      <td>2023-12</td>\n",
       "      <td>천식</td>\n",
       "      <td>1318.876016</td>\n",
       "    </tr>\n",
       "    <tr>\n",
       "      <th>11</th>\n",
       "      <td>2023-12</td>\n",
       "      <td>피부염</td>\n",
       "      <td>2338.969512</td>\n",
       "    </tr>\n",
       "    <tr>\n",
       "      <th>12</th>\n",
       "      <td>2024-01</td>\n",
       "      <td>감기</td>\n",
       "      <td>29773.511156</td>\n",
       "    </tr>\n",
       "    <tr>\n",
       "      <th>13</th>\n",
       "      <td>2024-01</td>\n",
       "      <td>눈병</td>\n",
       "      <td>1790.464503</td>\n",
       "    </tr>\n",
       "    <tr>\n",
       "      <th>14</th>\n",
       "      <td>2024-01</td>\n",
       "      <td>천식</td>\n",
       "      <td>1149.563895</td>\n",
       "    </tr>\n",
       "    <tr>\n",
       "      <th>15</th>\n",
       "      <td>2024-01</td>\n",
       "      <td>피부염</td>\n",
       "      <td>2313.509128</td>\n",
       "    </tr>\n",
       "    <tr>\n",
       "      <th>16</th>\n",
       "      <td>2024-02</td>\n",
       "      <td>감기</td>\n",
       "      <td>24377.571739</td>\n",
       "    </tr>\n",
       "    <tr>\n",
       "      <th>17</th>\n",
       "      <td>2024-02</td>\n",
       "      <td>눈병</td>\n",
       "      <td>1721.552174</td>\n",
       "    </tr>\n",
       "    <tr>\n",
       "      <th>18</th>\n",
       "      <td>2024-02</td>\n",
       "      <td>천식</td>\n",
       "      <td>948.906522</td>\n",
       "    </tr>\n",
       "    <tr>\n",
       "      <th>19</th>\n",
       "      <td>2024-02</td>\n",
       "      <td>피부염</td>\n",
       "      <td>2265.293478</td>\n",
       "    </tr>\n",
       "  </tbody>\n",
       "</table>\n",
       "</div>"
      ],
      "text/plain": [
       "        연/월   구분       발생건수(건)\n",
       "0   2023-10   감기  29373.596349\n",
       "1   2023-10   눈병   2077.245436\n",
       "2   2023-10   천식   1099.300203\n",
       "3   2023-10  피부염   2833.022312\n",
       "4   2023-11   감기  35412.163866\n",
       "5   2023-11   눈병   1959.560924\n",
       "6   2023-11   천식   1288.512605\n",
       "7   2023-11  피부염   2609.516807\n",
       "8   2023-12   감기  37013.969512\n",
       "9   2023-12   눈병   1872.800813\n",
       "10  2023-12   천식   1318.876016\n",
       "11  2023-12  피부염   2338.969512\n",
       "12  2024-01   감기  29773.511156\n",
       "13  2024-01   눈병   1790.464503\n",
       "14  2024-01   천식   1149.563895\n",
       "15  2024-01  피부염   2313.509128\n",
       "16  2024-02   감기  24377.571739\n",
       "17  2024-02   눈병   1721.552174\n",
       "18  2024-02   천식    948.906522\n",
       "19  2024-02  피부염   2265.293478"
      ]
     },
     "execution_count": 65,
     "metadata": {},
     "output_type": "execute_result"
    }
   ],
   "source": [
    "# 인덱스 없애려면?\n",
    "\n",
    "yearmonthdf=dfdata.groupby(['연/월','구분'],as_index=False)[['발생건수(건)']].mean()\n",
    "yearmonthdf"
   ]
  },
  {
   "cell_type": "code",
   "execution_count": 66,
   "metadata": {},
   "outputs": [
    {
     "data": {
      "text/plain": [
       "array(['2023-10', '2023-11', '2023-12', '2024-01', '2024-02'],\n",
       "      dtype=object)"
      ]
     },
     "execution_count": 66,
     "metadata": {},
     "output_type": "execute_result"
    }
   ],
   "source": [
    "dfdata['연/월'].unique()"
   ]
  },
  {
   "cell_type": "markdown",
   "metadata": {},
   "source": [
    "# 5일 차"
   ]
  },
  {
   "cell_type": "markdown",
   "metadata": {},
   "source": [
    "## 연/월, 구분별 발생 건수 평균 구하기"
   ]
  },
  {
   "cell_type": "code",
   "execution_count": 68,
   "metadata": {},
   "outputs": [
    {
     "data": {
      "text/plain": [
       "['2023-10', '2023-11', '2023-12', '2024-01', '2024-02']"
      ]
     },
     "execution_count": 68,
     "metadata": {},
     "output_type": "execute_result"
    }
   ],
   "source": [
    "datedata=list(dfdata['연/월'].unique())\n",
    "datedata"
   ]
  },
  {
   "cell_type": "code",
   "execution_count": 74,
   "metadata": {},
   "outputs": [
    {
     "name": "stdout",
     "output_type": "stream",
     "text": [
      "조회 가능한 연도와 월: ['2023-10', '2023-11', '2023-12', '2024-01', '2024-02']\n",
      "       연/월   구분       발생건수(건)\n",
      "4  2023-11   감기  35412.163866\n",
      "5  2023-11   눈병   1959.560924\n",
      "6  2023-11   천식   1288.512605\n",
      "7  2023-11  피부염   2609.516807\n"
     ]
    },
    {
     "data": {
      "text/plain": [
       "<Axes: title={'center': '2023-11 질병 현황'}, xlabel='구분'>"
      ]
     },
     "execution_count": 74,
     "metadata": {},
     "output_type": "execute_result"
    },
    {
     "data": {
      "image/png": "[encoded data removed]",
      "text/plain": [
       "<Figure size 640x480 with 1 Axes>"
      ]
     },
     "metadata": {},
     "output_type": "display_data"
    }
   ],
   "source": [
    "import matplotlib.pyplot as plt\n",
    "plt.rc('font',family='malgun gothic')\n",
    "\n",
    "print(f\"조회 가능한 연도와 월: {datedata}\")\n",
    "yearmonthin=input(\"조회하고자 하는 연도와 월을 입력하세요(예: 2025-01) \")\n",
    "yearmonthsearch=yearmonthdf[yearmonthdf['연/월']==yearmonthin]\n",
    "print(yearmonthsearch)\n",
    "yearmonthsearch.plot(kind='bar',x='구분',title=yearmonthin+' 질병 현황',rot=0)"
   ]
  },
  {
   "cell_type": "code",
   "execution_count": null,
   "metadata": {},
   "outputs": [],
   "source": []
  }
 ],
 "metadata": {
  "kernelspec": {
   "display_name": "Python 3",
   "language": "python",
   "name": "python3"
  },
  "language_info": {
   "codemirror_mode": {
    "name": "ipython",
    "version": 3
   },
   "file_extension": ".py",
   "mimetype": "text/x-python",
   "name": "python",
   "nbconvert_exporter": "python",
   "pygments_lexer": "ipython3",
   "version": "3.13.1"
  }
 },
 "nbformat": 4,
 "nbformat_minor": 2
}
