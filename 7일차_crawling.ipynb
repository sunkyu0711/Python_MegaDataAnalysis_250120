{
 "cells": [
  {
   "cell_type": "code",
   "execution_count": 1,
   "metadata": {},
   "outputs": [
    {
     "name": "stdout",
     "output_type": "stream",
     "text": [
      "Defaulting to user installation because normal site-packages is not writeableNote: you may need to restart the kernel to use updated packages.\n"
     ]
    },
    {
     "name": "stderr",
     "output_type": "stream",
     "text": [
      "\n",
      "[notice] A new release of pip is available: 24.3.1 -> 25.0\n",
      "[notice] To update, run: C:\\Users\\user\\AppData\\Local\\Microsoft\\WindowsApps\\PythonSoftwareFoundation.Python.3.13_qbz5n2kfra8p0\\python.exe -m pip install --upgrade pip\n"
     ]
    },
    {
     "name": "stdout",
     "output_type": "stream",
     "text": [
      "\n",
      "Collecting beautifulsoup4\n",
      "  Using cached beautifulsoup4-4.12.3-py3-none-any.whl.metadata (3.8 kB)\n",
      "Collecting soupsieve>1.2 (from beautifulsoup4)\n",
      "  Downloading soupsieve-2.6-py3-none-any.whl.metadata (4.6 kB)\n",
      "Using cached beautifulsoup4-4.12.3-py3-none-any.whl (147 kB)\n",
      "Downloading soupsieve-2.6-py3-none-any.whl (36 kB)\n",
      "Installing collected packages: soupsieve, beautifulsoup4\n",
      "Successfully installed beautifulsoup4-4.12.3 soupsieve-2.6\n"
     ]
    }
   ],
   "source": [
    "%pip install beautifulsoup4"
   ]
  },
  {
   "cell_type": "code",
   "execution_count": 4,
   "metadata": {},
   "outputs": [
    {
     "name": "stdout",
     "output_type": "stream",
     "text": [
      "<!DOCTYPE html>\n",
      "\n",
      "<html lang=\"en\">\n",
      "<head>\n",
      "<title>Document</title>\n",
      "</head>\n",
      "<body>\n",
      "<h1> 시장 가서 사야 할 과일 목록 </h1>\n",
      "<div>\n",
      "<p class=\"name1\" id=\"fruits1\" title=\"바나나\">바나나\n",
      "                <span class=\"price\">3000원</span>\n",
      "<span class=\"count\">10개</span>\n",
      "<span class=\"store\">   바나나가게</span>\n",
      "<a href=\"https://www.banana.com\">banana.com</a>\n",
      "</p>\n",
      "</div>\n",
      "<div>\n",
      "<p class=\"name2\" id=\"fruits2\" title=\"사과\">사과\n",
      "                <span class=\"price\"> 100원</span>\n",
      "<span class=\"count\"> 50개</span>\n",
      "<span class=\"store\">   사과가게</span>\n",
      "<a href=\"https://www.apple.com\">apple.com</a>\n",
      "</p>\n",
      "</div>\n",
      "</body>\n",
      "</html>\n"
     ]
    },
    {
     "name": "stderr",
     "output_type": "stream",
     "text": [
      "<>:3: SyntaxWarning: invalid escape sequence '\\p'\n",
      "<>:3: SyntaxWarning: invalid escape sequence '\\p'\n",
      "C:\\Users\\user\\AppData\\Local\\Temp\\ipykernel_25264\\2036179484.py:3: SyntaxWarning: invalid escape sequence '\\p'\n",
      "  webpage=open('D:\\python_sunkyu\\Python_MegaDataAnalysis_250120/7일차_sample02.html','r',encoding='utf-8')\n"
     ]
    }
   ],
   "source": [
    "from bs4 import BeautifulSoup\n",
    "\n",
    "webpage=open('D:\\python_sunkyu\\Python_MegaDataAnalysis_250120/7일차_sample02.html','r',encoding='utf-8')\n",
    "bsObject=BeautifulSoup(webpage,'html.parser') # parsing 먼저 해야!\n",
    "\n",
    "print(bsObject)"
   ]
  },
  {
   "cell_type": "markdown",
   "metadata": {},
   "source": [
    "* 태그 파싱 함수: find(), find_all() - 태그로 원하는 정보를 찾는 것이 특징\n",
    "* find('태그'): 그 태그의 첫 번째 값을 찾음\n",
    "* find(class_='클래스명'): 그 클래스만 찾아오기\n",
    "* find(id='아이디명')\n",
    "* find('태그명', {'속성명':'속성값'})\n",
    "* find('상위태그').find('하위태그')"
   ]
  },
  {
   "cell_type": "code",
   "execution_count": 5,
   "metadata": {},
   "outputs": [
    {
     "data": {
      "text/plain": [
       "<div>\n",
       "<p class=\"name1\" id=\"fruits1\" title=\"바나나\">바나나\n",
       "                <span class=\"price\">3000원</span>\n",
       "<span class=\"count\">10개</span>\n",
       "<span class=\"store\">   바나나가게</span>\n",
       "<a href=\"https://www.banana.com\">banana.com</a>\n",
       "</p>\n",
       "</div>"
      ]
     },
     "execution_count": 5,
     "metadata": {},
     "output_type": "execute_result"
    }
   ],
   "source": [
    "tag_div=bsObject.find('div')\n",
    "tag_div"
   ]
  },
  {
   "cell_type": "code",
   "execution_count": 6,
   "metadata": {},
   "outputs": [
    {
     "data": {
      "text/plain": [
       "<p class=\"name1\" id=\"fruits1\" title=\"바나나\">바나나\n",
       "                <span class=\"price\">3000원</span>\n",
       "<span class=\"count\">10개</span>\n",
       "<span class=\"store\">   바나나가게</span>\n",
       "<a href=\"https://www.banana.com\">banana.com</a>\n",
       "</p>"
      ]
     },
     "execution_count": 6,
     "metadata": {},
     "output_type": "execute_result"
    }
   ],
   "source": [
    "tag_p=bsObject.find('p')\n",
    "tag_p"
   ]
  },
  {
   "cell_type": "code",
   "execution_count": 7,
   "metadata": {},
   "outputs": [
    {
     "data": {
      "text/plain": [
       "[<p class=\"name1\" id=\"fruits1\" title=\"바나나\">바나나\n",
       "                 <span class=\"price\">3000원</span>\n",
       " <span class=\"count\">10개</span>\n",
       " <span class=\"store\">   바나나가게</span>\n",
       " <a href=\"https://www.banana.com\">banana.com</a>\n",
       " </p>,\n",
       " <p class=\"name2\" id=\"fruits2\" title=\"사과\">사과\n",
       "                 <span class=\"price\"> 100원</span>\n",
       " <span class=\"count\"> 50개</span>\n",
       " <span class=\"store\">   사과가게</span>\n",
       " <a href=\"https://www.apple.com\">apple.com</a>\n",
       " </p>]"
      ]
     },
     "execution_count": 7,
     "metadata": {},
     "output_type": "execute_result"
    }
   ],
   "source": [
    "tag_p_all=bsObject.find_all('p')\n",
    "tag_p_all # 리스트로 만들어짐!"
   ]
  },
  {
   "cell_type": "code",
   "execution_count": 8,
   "metadata": {},
   "outputs": [
    {
     "data": {
      "text/plain": [
       "<p class=\"name1\" id=\"fruits1\" title=\"바나나\">바나나\n",
       "                <span class=\"price\">3000원</span>\n",
       "<span class=\"count\">10개</span>\n",
       "<span class=\"store\">   바나나가게</span>\n",
       "<a href=\"https://www.banana.com\">banana.com</a>\n",
       "</p>"
      ]
     },
     "execution_count": 8,
     "metadata": {},
     "output_type": "execute_result"
    }
   ],
   "source": [
    "tag_p_all[0]"
   ]
  },
  {
   "cell_type": "code",
   "execution_count": 9,
   "metadata": {},
   "outputs": [
    {
     "data": {
      "text/plain": [
       "<p class=\"name2\" id=\"fruits2\" title=\"사과\">사과\n",
       "                <span class=\"price\"> 100원</span>\n",
       "<span class=\"count\"> 50개</span>\n",
       "<span class=\"store\">   사과가게</span>\n",
       "<a href=\"https://www.apple.com\">apple.com</a>\n",
       "</p>"
      ]
     },
     "execution_count": 9,
     "metadata": {},
     "output_type": "execute_result"
    }
   ],
   "source": [
    "tag_p_all[1]"
   ]
  },
  {
   "cell_type": "markdown",
   "metadata": {},
   "source": [
    "* select(), select_one(): CSS 선택자로 원하는 정보를 찾는 것이 특징\n",
    "* select('태그')\n",
    "* select('.클래스명')\n",
    "* select('#아이디명')\n",
    "* select('상위태그>하위태그>하위태그') / select('상위태그 하위태그')\n",
    "* select('상위태그.클래스이름>하위태그.클래스이름')\n",
    "* select('#아이디명>태그명.클래스명')\n",
    "* select('태그명[속성1=\"값1\"]')"
   ]
  },
  {
   "cell_type": "markdown",
   "metadata": {},
   "source": [
    "* 텍스트 가져오기\n",
    "* text, get_text(): 하위 자식태그의 텍스트까지 문자열로 반환\n",
    "* string: 줄 바꿈, 공백 등 필요 없는 것들을 제거한 문자열 반환. 자식 태그가 하나이면서, 그 자식 태그가 .string 값을 가지고 있다면 자식 태그의 문자열을 반환"
   ]
  },
  {
   "cell_type": "code",
   "execution_count": 10,
   "metadata": {},
   "outputs": [
    {
     "data": {
      "text/plain": [
       "[<p class=\"name1\" id=\"fruits1\" title=\"바나나\">바나나\n",
       "                 <span class=\"price\">3000원</span>\n",
       " <span class=\"count\">10개</span>\n",
       " <span class=\"store\">   바나나가게</span>\n",
       " <a href=\"https://www.banana.com\">banana.com</a>\n",
       " </p>,\n",
       " <p class=\"name2\" id=\"fruits2\" title=\"사과\">사과\n",
       "                 <span class=\"price\"> 100원</span>\n",
       " <span class=\"count\"> 50개</span>\n",
       " <span class=\"store\">   사과가게</span>\n",
       " <a href=\"https://www.apple.com\">apple.com</a>\n",
       " </p>]"
      ]
     },
     "execution_count": 10,
     "metadata": {},
     "output_type": "execute_result"
    }
   ],
   "source": [
    "p_data=bsObject.select('p')\n",
    "p_data"
   ]
  },
  {
   "cell_type": "code",
   "execution_count": 11,
   "metadata": {},
   "outputs": [
    {
     "data": {
      "text/plain": [
       "<p class=\"name2\" id=\"fruits2\" title=\"사과\">사과\n",
       "                <span class=\"price\"> 100원</span>\n",
       "<span class=\"count\"> 50개</span>\n",
       "<span class=\"store\">   사과가게</span>\n",
       "<a href=\"https://www.apple.com\">apple.com</a>\n",
       "</p>"
      ]
     },
     "execution_count": 11,
     "metadata": {},
     "output_type": "execute_result"
    }
   ],
   "source": [
    "p_data[1]"
   ]
  },
  {
   "cell_type": "code",
   "execution_count": 13,
   "metadata": {},
   "outputs": [
    {
     "name": "stdout",
     "output_type": "stream",
     "text": [
      "None\n"
     ]
    }
   ],
   "source": [
    "print(p_data[1].string) # 이 안에서 어떤 걸 가져와야 하는지를 정하지 않았으므로 None"
   ]
  },
  {
   "cell_type": "code",
   "execution_count": 14,
   "metadata": {},
   "outputs": [
    {
     "name": "stdout",
     "output_type": "stream",
     "text": [
      "사과\n",
      "                 100원\n",
      " 50개\n",
      "   사과가게\n",
      "apple.com\n",
      "\n"
     ]
    }
   ],
   "source": [
    "print(p_data[1].text)"
   ]
  },
  {
   "cell_type": "code",
   "execution_count": 16,
   "metadata": {},
   "outputs": [
    {
     "name": "stdout",
     "output_type": "stream",
     "text": [
      "<p class=\"name1\" id=\"fruits1\" title=\"바나나\">바나나\n",
      "                <span class=\"price\">3000원</span>\n",
      "<span class=\"count\">10개</span>\n",
      "<span class=\"store\">   바나나가게</span>\n",
      "<a href=\"https://www.banana.com\">banana.com</a>\n",
      "</p>\n",
      "--\n",
      "<p class=\"name2\" id=\"fruits2\" title=\"사과\">사과\n",
      "                <span class=\"price\"> 100원</span>\n",
      "<span class=\"count\"> 50개</span>\n",
      "<span class=\"store\">   사과가게</span>\n",
      "<a href=\"https://www.apple.com\">apple.com</a>\n",
      "</p>\n",
      "--\n"
     ]
    }
   ],
   "source": [
    "# 공백 없애고 가져오기\n",
    "\n",
    "for i in p_data:\n",
    "    print(i)\n",
    "    print('--')"
   ]
  },
  {
   "cell_type": "code",
   "execution_count": 18,
   "metadata": {},
   "outputs": [
    {
     "name": "stdout",
     "output_type": "stream",
     "text": [
      "바나나\n",
      "                \n",
      "===\n",
      "<span class=\"price\">3000원</span>\n",
      "===\n",
      "\n",
      "\n",
      "===\n",
      "<span class=\"count\">10개</span>\n",
      "===\n",
      "\n",
      "\n",
      "===\n",
      "<span class=\"store\">   바나나가게</span>\n",
      "===\n",
      "\n",
      "\n",
      "===\n",
      "<a href=\"https://www.banana.com\">banana.com</a>\n",
      "===\n",
      "\n",
      "\n",
      "===\n",
      "사과\n",
      "                \n",
      "===\n",
      "<span class=\"price\"> 100원</span>\n",
      "===\n",
      "\n",
      "\n",
      "===\n",
      "<span class=\"count\"> 50개</span>\n",
      "===\n",
      "\n",
      "\n",
      "===\n",
      "<span class=\"store\">   사과가게</span>\n",
      "===\n",
      "\n",
      "\n",
      "===\n",
      "<a href=\"https://www.apple.com\">apple.com</a>\n",
      "===\n",
      "\n",
      "\n",
      "===\n"
     ]
    }
   ],
   "source": [
    "for i in p_data:\n",
    "    for j in i:\n",
    "        print(j)\n",
    "        print(\"===\")"
   ]
  },
  {
   "cell_type": "code",
   "execution_count": 19,
   "metadata": {},
   "outputs": [
    {
     "name": "stdout",
     "output_type": "stream",
     "text": [
      "바나나\n",
      "                \n",
      "===\n",
      "3000원\n",
      "===\n",
      "\n",
      "\n",
      "===\n",
      "10개\n",
      "===\n",
      "\n",
      "\n",
      "===\n",
      "   바나나가게\n",
      "===\n",
      "\n",
      "\n",
      "===\n",
      "banana.com\n",
      "===\n",
      "\n",
      "\n",
      "===\n",
      "사과\n",
      "                \n",
      "===\n",
      " 100원\n",
      "===\n",
      "\n",
      "\n",
      "===\n",
      " 50개\n",
      "===\n",
      "\n",
      "\n",
      "===\n",
      "   사과가게\n",
      "===\n",
      "\n",
      "\n",
      "===\n",
      "apple.com\n",
      "===\n",
      "\n",
      "\n",
      "===\n"
     ]
    }
   ],
   "source": [
    "for i in p_data:\n",
    "    for j in i:\n",
    "        print(j.text)\n",
    "        print(\"===\")"
   ]
  },
  {
   "cell_type": "code",
   "execution_count": 20,
   "metadata": {},
   "outputs": [
    {
     "name": "stdout",
     "output_type": "stream",
     "text": [
      "바나나\n",
      "                \n",
      "===\n",
      "3000원\n",
      "===\n",
      "\n",
      "\n",
      "===\n",
      "10개\n",
      "===\n",
      "\n",
      "\n",
      "===\n",
      "   바나나가게\n",
      "===\n",
      "\n",
      "\n",
      "===\n",
      "banana.com\n",
      "===\n",
      "\n",
      "\n",
      "===\n",
      "사과\n",
      "                \n",
      "===\n",
      " 100원\n",
      "===\n",
      "\n",
      "\n",
      "===\n",
      " 50개\n",
      "===\n",
      "\n",
      "\n",
      "===\n",
      "   사과가게\n",
      "===\n",
      "\n",
      "\n",
      "===\n",
      "apple.com\n",
      "===\n",
      "\n",
      "\n",
      "===\n"
     ]
    }
   ],
   "source": [
    "for i in p_data:\n",
    "    for j in i:\n",
    "        print(j.string)\n",
    "        print(\"===\")"
   ]
  },
  {
   "cell_type": "code",
   "execution_count": 21,
   "metadata": {},
   "outputs": [
    {
     "name": "stdout",
     "output_type": "stream",
     "text": [
      "바나나\n",
      "===\n",
      "3000원\n",
      "===\n",
      "\n",
      "===\n",
      "10개\n",
      "===\n",
      "\n",
      "===\n",
      "바나나가게\n",
      "===\n",
      "\n",
      "===\n",
      "banana.com\n",
      "===\n",
      "\n",
      "===\n",
      "사과\n",
      "===\n",
      "100원\n",
      "===\n",
      "\n",
      "===\n",
      "50개\n",
      "===\n",
      "\n",
      "===\n",
      "사과가게\n",
      "===\n",
      "\n",
      "===\n",
      "apple.com\n",
      "===\n",
      "\n",
      "===\n"
     ]
    }
   ],
   "source": [
    "for i in p_data:\n",
    "    for j in i:\n",
    "        print(j.string.strip())\n",
    "        print(\"===\")"
   ]
  },
  {
   "cell_type": "code",
   "execution_count": 22,
   "metadata": {},
   "outputs": [
    {
     "name": "stdout",
     "output_type": "stream",
     "text": [
      "바나나\n",
      "===\n",
      "3000원\n",
      "===\n",
      "\n",
      "===\n",
      "10개\n",
      "===\n",
      "\n",
      "===\n",
      "바나나가게\n",
      "===\n",
      "\n",
      "===\n",
      "banana.com\n",
      "===\n",
      "\n",
      "===\n",
      "사과\n",
      "===\n",
      "100원\n",
      "===\n",
      "\n",
      "===\n",
      "50개\n",
      "===\n",
      "\n",
      "===\n",
      "사과가게\n",
      "===\n",
      "\n",
      "===\n",
      "apple.com\n",
      "===\n",
      "\n",
      "===\n"
     ]
    }
   ],
   "source": [
    "for i in p_data:\n",
    "    for j in i:\n",
    "        print(j.text.strip())\n",
    "        print(\"===\")"
   ]
  },
  {
   "cell_type": "code",
   "execution_count": 23,
   "metadata": {},
   "outputs": [
    {
     "name": "stdout",
     "output_type": "stream",
     "text": [
      "['바나나', '3000원', '10개', '바나나가게', 'banana.com']\n",
      "['사과', '100원', '50개', '사과가게', 'apple.com']\n"
     ]
    }
   ],
   "source": [
    "for i in p_data:\n",
    "    k=i.text.split()\n",
    "    # for j in i:\n",
    "    #     print(j.text.strip())\n",
    "    #     print(\"===\")\n",
    "    print(k)"
   ]
  },
  {
   "cell_type": "code",
   "execution_count": 24,
   "metadata": {},
   "outputs": [
    {
     "name": "stdout",
     "output_type": "stream",
     "text": [
      "바나나\n",
      "3000원\n",
      "10개\n",
      "바나나가게\n",
      "banana.com\n",
      "사과\n",
      "100원\n",
      "50개\n",
      "사과가게\n",
      "apple.com\n"
     ]
    }
   ],
   "source": [
    "for i in p_data:\n",
    "    k=i.text.split()\n",
    "    for j in k:\n",
    "        print(j)\n",
    "    # print(k)"
   ]
  },
  {
   "cell_type": "code",
   "execution_count": null,
   "metadata": {},
   "outputs": [],
   "source": []
  }
 ],
 "metadata": {
  "kernelspec": {
   "display_name": "Python 3",
   "language": "python",
   "name": "python3"
  },
  "language_info": {
   "codemirror_mode": {
    "name": "ipython",
    "version": 3
   },
   "file_extension": ".py",
   "mimetype": "text/x-python",
   "name": "python",
   "nbconvert_exporter": "python",
   "pygments_lexer": "ipython3",
   "version": "3.13.1"
  }
 },
 "nbformat": 4,
 "nbformat_minor": 2
}
